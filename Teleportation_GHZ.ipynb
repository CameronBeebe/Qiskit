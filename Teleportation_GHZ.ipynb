{
 "cells": [
  {
   "cell_type": "code",
   "execution_count": 2,
   "metadata": {},
   "outputs": [],
   "source": [
    "import qiskit\n",
    "import numpy as np"
   ]
  },
  {
   "cell_type": "code",
   "execution_count": 3,
   "metadata": {},
   "outputs": [],
   "source": [
    "# CB: Initialize Quantum Register.  1 for Alice's qubit, 3 for GHZ entangled state.  4 qubits total.\n",
    "q_register = qiskit.QuantumRegister(4)"
   ]
  },
  {
   "cell_type": "code",
   "execution_count": 4,
   "metadata": {},
   "outputs": [
    {
     "data": {
      "text/plain": [
       "QuantumRegister(4, 'q0')"
      ]
     },
     "execution_count": 4,
     "metadata": {},
     "output_type": "execute_result"
    }
   ],
   "source": [
    "q_register"
   ]
  },
  {
   "cell_type": "code",
   "execution_count": 5,
   "metadata": {},
   "outputs": [],
   "source": [
    "# CB: Initialize two separate Classical Registers.\n",
    "c_register_1 = qiskit.ClassicalRegister(1)\n",
    "c_register_2 = qiskit.ClassicalRegister(1)"
   ]
  },
  {
   "cell_type": "code",
   "execution_count": 6,
   "metadata": {},
   "outputs": [
    {
     "data": {
      "text/plain": [
       "ClassicalRegister(1, 'c0')"
      ]
     },
     "execution_count": 6,
     "metadata": {},
     "output_type": "execute_result"
    }
   ],
   "source": [
    "c_register_1"
   ]
  },
  {
   "cell_type": "code",
   "execution_count": 7,
   "metadata": {},
   "outputs": [
    {
     "data": {
      "text/plain": [
       "ClassicalRegister(1, 'c1')"
      ]
     },
     "execution_count": 7,
     "metadata": {},
     "output_type": "execute_result"
    }
   ],
   "source": [
    "c_register_2"
   ]
  },
  {
   "cell_type": "code",
   "execution_count": 8,
   "metadata": {},
   "outputs": [],
   "source": [
    "# CB: Create teleportation circuit.\n",
    "GHZ_teleport = qiskit.QuantumCircuit(q_register, c_register_1, c_register_2)"
   ]
  },
  {
   "cell_type": "code",
   "execution_count": 12,
   "metadata": {},
   "outputs": [
    {
     "data": {
      "text/plain": [
       "<qiskit.circuit.instructionset.InstructionSet at 0x120c28eb0>"
      ]
     },
     "execution_count": 12,
     "metadata": {},
     "output_type": "execute_result"
    }
   ],
   "source": [
    "# CB: Construct GHZ as shown here:\n",
    "# https://qiskit.org/documentation/tutorials/circuits/1_getting_started_with_qiskit.html\n",
    "GHZ_teleport.h(0)\n",
    "GHZ_teleport.cnot(0,1)\n",
    "GHZ_teleport.cnot(0,2)"
   ]
  },
  {
   "cell_type": "code",
   "execution_count": 15,
   "metadata": {},
   "outputs": [
    {
     "data": {
      "text/html": [
       "<pre style=\"word-wrap: normal;white-space: pre;background: #fff0;line-height: 1.1;font-family: &quot;Courier New&quot;,Courier,monospace\">      ┌───┐          \n",
       "q0_0: ┤ H ├──■────■──\n",
       "      └───┘┌─┴─┐  │  \n",
       "q0_1: ─────┤ X ├──┼──\n",
       "           └───┘┌─┴─┐\n",
       "q0_2: ──────────┤ X ├\n",
       "                └───┘\n",
       "q0_3: ───────────────\n",
       "                     \n",
       "c0: 1/═══════════════\n",
       "                     \n",
       "c1: 1/═══════════════\n",
       "                     </pre>"
      ],
      "text/plain": [
       "      ┌───┐          \n",
       "q0_0: ┤ H ├──■────■──\n",
       "      └───┘┌─┴─┐  │  \n",
       "q0_1: ─────┤ X ├──┼──\n",
       "           └───┘┌─┴─┐\n",
       "q0_2: ──────────┤ X ├\n",
       "                └───┘\n",
       "q0_3: ───────────────\n",
       "                     \n",
       "c0: 1/═══════════════\n",
       "                     \n",
       "c1: 1/═══════════════\n",
       "                     "
      ]
     },
     "execution_count": 15,
     "metadata": {},
     "output_type": "execute_result"
    }
   ],
   "source": [
    "# CB: Look at circuit.\n",
    "GHZ_teleport.draw()"
   ]
  },
  {
   "cell_type": "code",
   "execution_count": null,
   "metadata": {},
   "outputs": [],
   "source": []
  }
 ],
 "metadata": {
  "kernelspec": {
   "display_name": "Python [conda env:quantum]",
   "language": "python",
   "name": "conda-env-quantum-py"
  },
  "language_info": {
   "codemirror_mode": {
    "name": "ipython",
    "version": 3
   },
   "file_extension": ".py",
   "mimetype": "text/x-python",
   "name": "python",
   "nbconvert_exporter": "python",
   "pygments_lexer": "ipython3",
   "version": "3.8.5"
  }
 },
 "nbformat": 4,
 "nbformat_minor": 4
}
